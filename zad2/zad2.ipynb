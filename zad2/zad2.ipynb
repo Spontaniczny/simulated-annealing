{
 "cells": [
  {
   "cell_type": "code",
   "execution_count": 1,
   "metadata": {
    "collapsed": true
   },
   "outputs": [],
   "source": [
    "import matplotlib.pyplot as plt\n",
    "import random\n",
    "import numpy as np\n",
    "from PIL import Image\n",
    "from math import exp"
   ]
  },
  {
   "cell_type": "code",
   "execution_count": 2,
   "outputs": [],
   "source": [
    "def create_random_image(n, a = 0.5):\n",
    "    tab = []\n",
    "    t = int(n*a)\n",
    "    for _ in range(n):\n",
    "        temp = [False for _ in range(t)]  # czarny\n",
    "        temp2 = [True for _ in range(n - t)]  # bialy\n",
    "        temp += temp2\n",
    "        random.shuffle(temp)\n",
    "        tab.append(temp)\n",
    "    return np.array(tab)\n"
   ],
   "metadata": {
    "collapsed": false
   }
  },
  {
   "cell_type": "code",
   "execution_count": 3,
   "outputs": [],
   "source": [
    "def generate_temp_tab(max_temp, min_temp, temp_func):\n",
    "    temp = max_temp\n",
    "    tab = []\n",
    "    while temp > min_temp:\n",
    "        tab.append(temp)\n",
    "        temp = temp_func(temp)\n",
    "    return tab"
   ],
   "metadata": {
    "collapsed": false
   }
  },
  {
   "cell_type": "code",
   "execution_count": 49,
   "outputs": [],
   "source": [
    "def reform_image_using_sa(image, pos_func, max_temp, min_temp, temp_func, cost_func_one, inside_loop):\n",
    "    temps = generate_temp_tab(max_temp, min_temp, temp_func)\n",
    "    pos = np.asarray(image).copy()\n",
    "\n",
    "    start_energy = cost_all_image(pos, cost_func_one)\n",
    "    last_saved_energy = start_energy\n",
    "    # ans = pos\n",
    "    # ans_energy = energy1\n",
    "    # print(\"XD\")\n",
    "    # print(f\"Start energy: {start_energy}\")\n",
    "    with open(f\"save/image_{0}\", \"w\") as file:\n",
    "        np.savetxt(file, pos)\n",
    "    for i, temp in enumerate(temps):\n",
    "        # print(f\"temp: {temp}\")\n",
    "        for _ in range(inside_loop):\n",
    "            position_to_switch = pos_func(pos)\n",
    "            energy_before_switch = cost_func_one(pos, position_to_switch[0]) + cost_func_one(pos, position_to_switch[1])\n",
    "            switch_two(pos, position_to_switch)\n",
    "            energy_after_switch = cost_func_one(pos, position_to_switch[0]) + cost_func_one(pos, position_to_switch[1])\n",
    "            # print(f\"energy_before_switch: {energy_before_switch}\")\n",
    "            # print(f\"energy_after_switch: {energy_after_switch}\")\n",
    "\n",
    "            delta_energy =  energy_after_switch - energy_before_switch\n",
    "\n",
    "            # REVERSE NOT UPDATE!\n",
    "            # if change not accepted, reverse\n",
    "            if delta_energy > 0 and exp(-delta_energy / temp) < random.uniform(0, 1):\n",
    "                switch_two(pos, position_to_switch)\n",
    "\n",
    "        save_to_file_cooldown = 10_000\n",
    "        if i % save_to_file_cooldown == 0:\n",
    "            print(i, temp, cost_all_image(pos, cost_func_one))\n",
    "            if (x := cost_all_image(pos, cost_func_one)) < last_saved_energy:\n",
    "                last_saved_energy = x\n",
    "                # print(f\"Saved to file {i//save_to_file_cooldown}. Unhappiness {x}\")\n",
    "                with open(f\"save/image_{i//save_to_file_cooldown}\", \"w\") as file:\n",
    "                    np.savetxt(file, pos)\n",
    "\n",
    "    # print(f\"Start energy: {start_energy}\")\n",
    "    # print(f\"End energy: {cost_all_image(pos, cost_func_one)}\")\n",
    "\n",
    "    draw_temp_func(temps)\n",
    "    return pos\n",
    "\n",
    "def switch_two(image, pos_to_switch):\n",
    "    x1, y1 = pos_to_switch[0]\n",
    "    image[x1][y1] = not image[x1][y1]\n",
    "\n",
    "    x2, y2 = pos_to_switch[1]\n",
    "    image[x2][y2] = not image[x2][y2]\n",
    "\n",
    "\n",
    "# def cost_want_close_same_type_cross_only(image):\n",
    "#     cost = 0\n",
    "#     n = len(image)\n",
    "#     # outside\n",
    "#     # for i in range(0, n, 2):\n",
    "#     for i in range(0, n):\n",
    "#         # left\n",
    "#         if image[i][0] != image[i][1]:\n",
    "#             cost += 1\n",
    "#         # right\n",
    "#         if image[i][n - 1] != image[i][n - 2]:\n",
    "#             cost += 1\n",
    "#         # top\n",
    "#         if image[0][i] != image[1][i]:\n",
    "#             cost += 1\n",
    "#         # bot\n",
    "#         if image[n - 1][i] != image[n - 2][i]:\n",
    "#             cost += 1\n",
    "#\n",
    "#     # inside\n",
    "#     # for i in range(1, n - 1, 2):\n",
    "#     #     for j in range(i % 2, n - 1, 2):\n",
    "#     for i in range(1, n - 1):\n",
    "#         for j in range(1, n - 1):\n",
    "#             t = image[i][j]\n",
    "#             if t != image[i + 1][j]:\n",
    "#                 cost += 1\n",
    "#             if t != image[i][j + 1]:\n",
    "#                 cost += 1\n",
    "#             if t != image[i - 1][j]:\n",
    "#                 cost += 1\n",
    "#             if t != image[i][j - 1]:\n",
    "#                 cost += 1\n",
    "#     return cost\n",
    "\n",
    "\n",
    "# def cost_want_close_different_type_cross_only(image):\n",
    "#     cost = 0\n",
    "#     n = len(image)\n",
    "#     # outside\n",
    "#     # for i in range(0, n, 2):\n",
    "#     for i in range(0, n):\n",
    "#         # left\n",
    "#         if image[i][0] == image[i][1]:\n",
    "#             cost += 1\n",
    "#         # right\n",
    "#         if image[i][n - 1] == image[i][n - 2]:\n",
    "#             cost += 1\n",
    "#         # top\n",
    "#         if image[0][i] == image[1][i]:\n",
    "#             cost += 1\n",
    "#         # bot\n",
    "#         if image[n - 1][i] == image[n - 2][i]:\n",
    "#             cost += 1\n",
    "#\n",
    "#     # inside\n",
    "#     # for i in range(1, n - 1, 2):\n",
    "#     #     for j in range(i % 2, n - 1, 2):\n",
    "#     for i in range(1, n - 1):\n",
    "#         for j in range(1, n - 1):\n",
    "#             t = image[i][j]\n",
    "#             if t == image[i + 1][j]:\n",
    "#                 cost += 1\n",
    "#             if t == image[i][j + 1]:\n",
    "#                 cost += 1\n",
    "#             if t == image[i - 1][j]:\n",
    "#                 cost += 1\n",
    "#             if t == image[i][j - 1]:\n",
    "#                 cost += 1\n",
    "#     return cost\n",
    "\n",
    "def cost_one_want_close_different_type_cross_only(image, pos):\n",
    "    energy = 0\n",
    "    n = len(image)\n",
    "    x, y = pos\n",
    "    pos1 = image[x][y]\n",
    "    if pos1 == image[(x + 1) % n][y]:\n",
    "        energy += 1\n",
    "    if pos1 == image[x][(y + 1) % n]:\n",
    "        energy += 1\n",
    "    if pos1 == image[(x - 1) % n][y]:\n",
    "        energy += 1\n",
    "    if pos1 == image[x][(y - 1) % n]:\n",
    "        energy += 1\n",
    "\n",
    "    return energy\n",
    "\n",
    "def cost_one_want_close_same_type_cross_only(image, pos):\n",
    "    energy = 0\n",
    "    n = len(image)\n",
    "    x, y = pos\n",
    "    pos1 = image[x][y]\n",
    "    if pos1 != image[(x + 1) % n][y]:\n",
    "        energy += 1\n",
    "    if pos1 != image[x][(y + 1) % n]:\n",
    "        energy += 1\n",
    "    if pos1 != image[(x - 1) % n][y]:\n",
    "        energy += 1\n",
    "    if pos1 != image[x][(y - 1) % n]:\n",
    "        energy += 1\n",
    "        \n",
    "    return energy\n",
    "\n",
    "\n",
    "def cost_one_want_close_same_circle(image, pos):\n",
    "    energy = 0\n",
    "    n = len(image)\n",
    "    x, y = pos\n",
    "    pos1 = image[x][y]\n",
    "    if pos1 != image[(x + 1) % n][y]:\n",
    "        energy += 1\n",
    "    if pos1 != image[x][(y + 1) % n]:\n",
    "        energy += 1\n",
    "    if pos1 != image[(x - 1) % n][y]:\n",
    "        energy += 1\n",
    "    if pos1 != image[x][(y - 1) % n]:\n",
    "        energy += 1\n",
    "\n",
    "    if pos1 != image[(x + 1) % n][(y + 1) % n]:\n",
    "        energy += 1\n",
    "    if pos1 != image[(x - 1) % n][(y + 1) % n]:\n",
    "        energy += 1\n",
    "    if pos1 != image[(x + 1) % n][(y - 1) % n]:\n",
    "        energy += 1\n",
    "    if pos1 != image[(x - 1) % n][(y - 1) % n]:\n",
    "        energy += 1\n",
    "\n",
    "    return energy\n",
    "\n",
    "def cost_one_want_lr_same_ud_diff(image, pos):\n",
    "    energy = 0\n",
    "    n = len(image)\n",
    "    x, y = pos\n",
    "    pos1 = image[x][y]\n",
    "    if pos1 == image[(x + 1) % n][y]:\n",
    "        energy += 1\n",
    "    if pos1 != image[x][(y + 1) % n]:\n",
    "        energy += 1\n",
    "    if pos1 == image[(x - 1) % n][y]:\n",
    "        energy += 1\n",
    "    if pos1 != image[x][(y - 1) % n]:\n",
    "        energy += 1\n",
    "\n",
    "    return energy\n",
    "\n",
    "def cost_one_u_diff_lrd_same(image, pos):\n",
    "    energy = 0\n",
    "    n = len(image)\n",
    "    x, y = pos\n",
    "    pos1 = image[x][y]\n",
    "    if x + 1 < n and pos1 != image[x + 1][y]:  # down\n",
    "        energy += 1\n",
    "    if y + 1 < n and pos1 != image[x][y + 1]:  # right\n",
    "        energy += 1\n",
    "    if x - 1 > 0 and pos1 == image[x - 1][y]:  # up\n",
    "        energy += 1\n",
    "    if y - 1 > 0 and pos1 != image[x][y - 1]:  # left\n",
    "        energy += 1\n",
    "\n",
    "    return energy\n",
    "\n",
    "def cost_one_labitynt_like(image, pos):\n",
    "    \"\"\"This does not work\"\"\"\n",
    "    energy = 0\n",
    "    n = len(image)\n",
    "    x, y = pos\n",
    "    pos1 = image[x][y]\n",
    "    if x + 1 < n and pos1 != image[x + 1][y]:  # down\n",
    "        energy += 1\n",
    "    if y + 1 < n and pos1 != image[x][y + 1]:  # right\n",
    "        energy += 1\n",
    "    if x - 1 > 0 and pos1 == image[x - 1][y]:  # up\n",
    "        energy += 1\n",
    "    if y - 1 > 0 and pos1 != image[x][y - 1]:  # left\n",
    "        energy += 1\n",
    "\n",
    "    return energy % 2\n",
    "\n",
    "\n",
    "def cost_all_image(image, cost_func_one):\n",
    "    n = len(image)\n",
    "    energy = 0\n",
    "    for i in range(n):\n",
    "        for j in range(n):\n",
    "            energy += cost_func_one(image, (i, j))\n",
    "    return energy\n",
    "\n",
    "    \n",
    "def new_switch(image):\n",
    "    n = len(image)\n",
    "    cross_neighbours = [(0, 1), (1, 0), (-1, 0), (0, -1)]\n",
    "    random.shuffle(cross_neighbours)\n",
    "    i = random.randint(0, 4)\n",
    "    here = [random.randint(0, n - 1), random.randint(0, n - 1)]\n",
    "    if i:\n",
    "        for pos in cross_neighbours:\n",
    "            if image[here[0]][here[1]] != image[(here[0] + pos[0]) % n][(here[1] + pos[1]) % n]:\n",
    "                pos2x, pos2y = (here[0] + pos[0]) % n, (here[1] + pos[1]) % n\n",
    "                # image[here[0]][here[1]] = not image[here[0]][here[1]]\n",
    "                # image[pos2x][pos2y] = not image[pos2x][pos2y]\n",
    "                return here, (pos2x, pos2y)\n",
    "    pos = [random.randint(0, n - 1), random.randint(0, n - 1)]\n",
    "    while image[here[0]][here[1]] == image[pos[0]][pos[1]]:\n",
    "        pos = [random.randint(0, n - 1), random.randint(0, n - 1)]\n",
    "    # image[here[0]][here[1]] = not image[here[0]][here[1]]\n",
    "    # image[pos[0]][pos[1]] = not image[pos[0]][pos[1]]\n",
    "    return here, pos\n",
    "\n",
    "\n",
    "def draw_temp_func(temps):\n",
    "    x = [i for i in range(0, len(temps), 5)]\n",
    "    y = []\n",
    "    for i in x:\n",
    "        y.append(temps[i])\n",
    "    plt.scatter(x, y)\n",
    "    plt.plot(x, y)\n",
    "    plt.show()"
   ],
   "metadata": {
    "collapsed": false
   }
  },
  {
   "cell_type": "code",
   "execution_count": 38,
   "outputs": [],
   "source": [
    "n = 200"
   ],
   "metadata": {
    "collapsed": false
   }
  },
  {
   "cell_type": "code",
   "execution_count": 41,
   "outputs": [],
   "source": [
    "tab = create_random_image(n, 0.5)\n",
    "image = Image.fromarray(tab)\n",
    "xd = np.asarray(image)"
   ],
   "metadata": {
    "collapsed": false
   }
  },
  {
   "cell_type": "code",
   "execution_count": 42,
   "outputs": [
    {
     "data": {
      "text/plain": "<PIL.Image.Image image mode=1 size=500x500>",
      "image/png": "[encoded data removed]"
     },
     "metadata": {},
     "output_type": "display_data"
    }
   ],
   "source": [
    "# image = Image.fromarray(create_random_image(n))\n",
    "display(image.resize((500,500)))"
   ],
   "metadata": {
    "collapsed": false
   }
  },
  {
   "cell_type": "code",
   "execution_count": null,
   "outputs": [],
   "source": [
    "# reform_image_using_sa(image, pos_func, max_temp, min_temp, temp_func, cost_func_one, worst_delta_energy, inside_loop)\n",
    "new_image = reform_image_using_sa(image, new_switch, 8, 0.1, lambda x: x*0.9999995, cost_one_want_close_same_type_cross_only, 10)"
   ],
   "metadata": {
    "collapsed": false,
    "pycharm": {
     "is_executing": true
    }
   }
  },
  {
   "cell_type": "code",
   "execution_count": 45,
   "outputs": [
    {
     "data": {
      "text/plain": "<PIL.Image.Image image mode=1 size=500x500>",
      "image/png": "[encoded data removed]"
     },
     "metadata": {},
     "output_type": "display_data"
    }
   ],
   "source": [
    "display(Image.fromarray(new_image).resize((500,500)))"
   ],
   "metadata": {
    "collapsed": false
   }
  },
  {
   "cell_type": "markdown",
   "source": [
    " # Iteration counter"
   ],
   "metadata": {
    "collapsed": false
   }
  },
  {
   "cell_type": "code",
   "execution_count": null,
   "outputs": [],
   "source": [
    "c = 0\n",
    "x = 8\n",
    "while x > 0.1:\n",
    "    x *= 0.9999995\n",
    "    c+=1\n",
    "print(c)"
   ],
   "metadata": {
    "collapsed": false,
    "pycharm": {
     "is_executing": true
    }
   }
  }
 ],
 "metadata": {
  "kernelspec": {
   "display_name": "Python 3",
   "language": "python",
   "name": "python3"
  },
  "language_info": {
   "codemirror_mode": {
    "name": "ipython",
    "version": 2
   },
   "file_extension": ".py",
   "mimetype": "text/x-python",
   "name": "python",
   "nbconvert_exporter": "python",
   "pygments_lexer": "ipython2",
   "version": "2.7.6"
  }
 },
 "nbformat": 4,
 "nbformat_minor": 0
}
