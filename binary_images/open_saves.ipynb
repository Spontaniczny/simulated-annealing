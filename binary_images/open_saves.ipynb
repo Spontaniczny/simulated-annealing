{
 "cells": [
  {
   "cell_type": "code",
   "execution_count": 2,
   "metadata": {
    "collapsed": true
   },
   "outputs": [],
   "source": [
    "import numpy as np\n",
    "from PIL import Image"
   ]
  },
  {
   "cell_type": "code",
   "execution_count": 3,
   "outputs": [],
   "source": [
    "def cost_func(image):\n",
    "    \"\"\"(optional func) Add your cost function code below to see how much annealing is progressing\"\"\"\n",
    "    cost = 0\n",
    "    n = len(image)\n",
    "    # outside\n",
    "    # for i in range(0, n, 2):\n",
    "    for i in range(0, n):\n",
    "        # left\n",
    "        if image[i][0] == image[i][1]:\n",
    "            cost += 1\n",
    "        # right\n",
    "        if image[i][n - 1] == image[i][n - 2]:\n",
    "            cost += 1\n",
    "        # top\n",
    "        if image[0][i] == image[1][i]:\n",
    "            cost += 1\n",
    "        # bot\n",
    "        if image[n - 1][i] == image[n - 2][i]:\n",
    "            cost += 1\n",
    "\n",
    "    # inside\n",
    "    # for i in range(1, n - 1, 2):\n",
    "    #     for j in range(i % 2, n - 1, 2):\n",
    "    for i in range(1, n - 1):\n",
    "        for j in range(1, n - 1):\n",
    "            t = image[i][j]\n",
    "            if t == image[i + 1][j]:\n",
    "                cost += 1\n",
    "            if t == image[i][j + 1]:\n",
    "                cost += 1\n",
    "            if t == image[i - 1][j]:\n",
    "                cost += 1\n",
    "            if t == image[i][j - 1]:\n",
    "                cost += 1\n",
    "    return cost"
   ],
   "metadata": {
    "collapsed": false
   }
  },
  {
   "cell_type": "code",
   "execution_count": 197,
   "outputs": [
    {
     "name": "stdout",
     "output_type": "stream",
     "text": [
      "<PIL.Image.Image image mode=1 size=200x200 at 0x2BADED9D4D0>\n"
     ]
    }
   ],
   "source": [
    "with open(\"save/up_diff_ldr_same/image_218\", \"r\") as file:\n",
    "    x = np.loadtxt(file, converters=float, dtype=int).astype(bool)\n",
    "    image = Image.fromarray(x)\n",
    "    print(image)"
   ],
   "metadata": {
    "collapsed": false
   }
  },
  {
   "cell_type": "code",
   "execution_count": 198,
   "outputs": [
    {
     "data": {
      "text/plain": "<PIL.Image.Image image mode=1 size=500x500>",
      "image/png": "[encoded data removed]"
     },
     "metadata": {},
     "output_type": "display_data"
    }
   ],
   "source": [
    "display(image.resize((500, 500)))"
   ],
   "metadata": {
    "collapsed": false
   }
  },
  {
   "cell_type": "code",
   "execution_count": null,
   "outputs": [],
   "source": [],
   "metadata": {
    "collapsed": false
   }
  }
 ],
 "metadata": {
  "kernelspec": {
   "display_name": "Python 3",
   "language": "python",
   "name": "python3"
  },
  "language_info": {
   "codemirror_mode": {
    "name": "ipython",
    "version": 2
   },
   "file_extension": ".py",
   "mimetype": "text/x-python",
   "name": "python",
   "nbconvert_exporter": "python",
   "pygments_lexer": "ipython2",
   "version": "2.7.6"
  }
 },
 "nbformat": 4,
 "nbformat_minor": 0
}
